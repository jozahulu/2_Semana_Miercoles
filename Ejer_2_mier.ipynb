{
 "cells": [
  {
   "cell_type": "code",
   "execution_count": 8,
   "metadata": {},
   "outputs": [],
   "source": [
    "import numpy as np\n",
    "import matplotlib.pyplot as plt\n",
    "import scipy as sp\n",
    "from random import random\n",
    "%matplotlib inline\n",
    "from numpy import pi\n",
    "from math import *\n",
    "from numpy import *\n",
    "from sympy import*\n",
    "from scipy.fftpack import fft, ifft"
   ]
  },
  {
   "cell_type": "code",
   "execution_count": 9,
   "metadata": {},
   "outputs": [],
   "source": [
    "# Ley de Potencias para una Funcion de Correlacion\n",
    "sigma=0.25 #Coloque aqui el valor de sigma\n",
    "r_o=25     #Coloque el valor de "
   ]
  },
  {
   "cell_type": "code",
   "execution_count": 13,
   "metadata": {},
   "outputs": [
    {
     "name": "stdout",
     "output_type": "stream",
     "text": [
      "frecuencia [0 0 0 0 0 0 0 0 0 0 0 0 0 0 0 0 0 0 0 0] Funcion Trasformada [8 1 0 0 0 0 0 0 0 0 0 0 0 0 0 0 0 0 0 1]\n"
     ]
    },
    {
     "name": "stderr",
     "output_type": "stream",
     "text": [
      "C:\\Users\\Yuli\\Anaconda3\\lib\\site-packages\\numpy\\core\\numeric.py:492: ComplexWarning: Casting complex values to real discards the imaginary part\n",
      "  return array(a, dtype, copy=False, order=order)\n"
     ]
    },
    {
     "data": {
      "image/png": "[encoded data removed]",
      "text/plain": [
       "<Figure size 432x288 with 3 Axes>"
      ]
     },
     "metadata": {},
     "output_type": "display_data"
    }
   ],
   "source": [
    "F = np.arange(0,20,1)     #Hay que cuidar estos vestores \n",
    "XF = np.arange(0,20,1)    # F,XF y x deben de tener el mismo numero de componentes siemopre\n",
    "x = np.arange(0,2,0.1)    # en este caso todos tienen 20 valores \n",
    "#NUESTRO x NUNCA ES NEGATIVO\n",
    "# Esta es la funcion de Gauss\n",
    "#y = exp(sigma*(log()))\n",
    "y=((x)/(r_o))**(sigma)\n",
    "#Este es la libreria \n",
    "TF=fft(y)  \n",
    "#print('primeros',y,x)\n",
    "N=len(x)\n",
    "#print('TRA',N)\n",
    "# Aqui comienza el algoritmo que yo cree\n",
    "for k in range(N):\n",
    "    cr=0;    ci=0;\n",
    "    for n in range(N):\n",
    "        cr=cr+y[n]*(cos(2*pi*n*k/N)) # esta es para ala parte real\n",
    "        ci=ci+y[n]*(sin(2*pi*n*k/N))  # esta es para la parte imaginaria\n",
    "        cr=cr\n",
    "        ci=ci\n",
    "    XF[k]=(cr*cr+ci*ci)**0.5 # esta es la parte de la transformacion\n",
    "    #F[k]=(k-1)/(N/(2*sigma**2))\n",
    " \n",
    "k = np.arange(0,20,1)\n",
    "F[k]=(k-1)/(N/(2*sigma**2))    \n",
    "print('frecuencia',F,'Funcion Trasformada',XF)\n",
    "plt.subplot(5,1,1)\n",
    "plt.plot(F,XF,'red')\n",
    "plt.ylabel('ALgoritmo')\n",
    "plt.xlabel('F')\n",
    "plt.title('Usando mi ALGORITMO')\n",
    "plt.subplot(5,1,3)\n",
    "plt.plot(x,y)\n",
    "plt.ylabel('y')\n",
    "plt.xlabel('x')\n",
    "plt.title('Sin transformar ')\n",
    "plt.subplot(5,1,5)\n",
    "plt.plot(F,TF,'green')\n",
    "plt.ylabel('codigo')\n",
    "plt.xlabel('F')\n",
    "plt.title('Usando la LIBRERIA')\n",
    "plt.show()"
   ]
  },
  {
   "cell_type": "code",
   "execution_count": null,
   "metadata": {},
   "outputs": [],
   "source": []
  }
 ],
 "metadata": {
  "kernelspec": {
   "display_name": "Python 3",
   "language": "python",
   "name": "python3"
  },
  "language_info": {
   "codemirror_mode": {
    "name": "ipython",
    "version": 3
   },
   "file_extension": ".py",
   "mimetype": "text/x-python",
   "name": "python",
   "nbconvert_exporter": "python",
   "pygments_lexer": "ipython3",
   "version": "3.6.5"
  }
 },
 "nbformat": 4,
 "nbformat_minor": 2
}
